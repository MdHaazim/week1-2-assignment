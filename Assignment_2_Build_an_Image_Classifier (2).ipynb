{
  "nbformat": 4,
  "nbformat_minor": 0,
  "metadata": {
    "colab": {
      "provenance": []
    },
    "kernelspec": {
      "name": "python3",
      "display_name": "Python 3"
    },
    "language_info": {
      "name": "python"
    }
  },
  "cells": [
    {
      "cell_type": "markdown",
      "source": [
        "**Make sure your compute resource is set to GPU else you'll need to reset your session from scratch**\n",
        "\n",
        "---\n",
        "Group yourself to 3 max, and fill in below details\n",
        "Group member detail(s): \\\n",
        "1. Muhammad Haazim bin Abdullah - 21b6016\n",
        "2. Mohamad Ikhwan bin Haji Harun - 21b6019\n",
        "3. Ahmad Rusyaid bin Jaini - 21b6011\n",
        "\n",
        "Some of the concepts may be technically advanced, instead, it is to focus on learning how to effectively use Google Colab for scientific research. Don't fret if you dont understand any of codes written for you."
      ],
      "metadata": {
        "id": "_M47oZUfDT4u"
      }
    },
    {
      "cell_type": "markdown",
      "source": [
        "# Setting up Environment"
      ],
      "metadata": {
        "id": "1Xprg08vEQqD"
      }
    },
    {
      "cell_type": "markdown",
      "source": [
        "Task 1: Set Up the Environment \\\n",
        "Import the necessary libraries for the exercise, PyTorch for neural network training.\\\n",
        "Load the CIFAR10 dataset.\n"
      ],
      "metadata": {
        "id": "bAOS-EJzEavg"
      }
    },
    {
      "cell_type": "code",
      "source": [
        "import torch\n",
        "import torch.nn as nn\n",
        "import torch.optim as optim\n",
        "import torchvision\n",
        "import torchvision.transforms as transforms\n",
        "import torchvision.models as models\n",
        "from torch.utils.data import DataLoader\n",
        "from google.colab import files\n",
        "from PIL import Image"
      ],
      "metadata": {
        "id": "1qZrtDipATDh"
      },
      "execution_count": null,
      "outputs": []
    },
    {
      "cell_type": "code",
      "source": [
        "# Set the device to GPU if available, otherwise, use CPU\n",
        "device = torch.device('cuda' if torch.cuda.is_available() else 'cpu')"
      ],
      "metadata": {
        "id": "J23xkfU4AVpC"
      },
      "execution_count": null,
      "outputs": []
    },
    {
      "cell_type": "code",
      "execution_count": null,
      "metadata": {
        "id": "u1bdybnT-Z1j"
      },
      "outputs": [],
      "source": [
        "# Define the modified neural network architecture for CIFAR-10\n",
        "class SimpleCNN(nn.Module):\n",
        "    def __init__(self):\n",
        "        super(SimpleCNN, self).__init__()\n",
        "        self.conv1 = nn.Conv2d(3, 16, kernel_size=3, stride=1, padding=1)\n",
        "        self.relu1 = nn.ReLU()\n",
        "        self.pool1 = nn.MaxPool2d(kernel_size=2, stride=2)\n",
        "        self.conv2 = nn.Conv2d(16, 32, kernel_size=3, stride=1, padding=1)\n",
        "        self.relu2 = nn.ReLU()\n",
        "        self.pool2 = nn.MaxPool2d(kernel_size=2, stride=2)\n",
        "        self.fc1 = nn.Linear(8 * 8 * 32, 128)  # Adjusted for CIFAR-10 image size\n",
        "        self.relu3 = nn.ReLU()\n",
        "        self.fc2 = nn.Linear(128, 10)  # Output size matches the number of CIFAR-10 classes (10)\n",
        "\n",
        "    def forward(self, x):\n",
        "        x = self.conv1(x)\n",
        "        x = self.relu1(x)\n",
        "        x = self.pool1(x)\n",
        "        x = self.conv2(x)\n",
        "        x = self.relu2(x)\n",
        "        x = self.pool2(x)\n",
        "        x = x.view(-1, 8 * 8 * 32)  # Adjusted for CIFAR-10 image size\n",
        "        x = self.fc1(x)\n",
        "        x = self.relu3(x)\n",
        "        x = self.fc2(x)\n",
        "        return x\n"
      ]
    },
    {
      "cell_type": "markdown",
      "source": [
        "Below are the Hyperparameters for the neural network (think of it as knobs that you can tune to enhance performance)\n"
      ],
      "metadata": {
        "id": "KACp73JDFg57"
      }
    },
    {
      "cell_type": "markdown",
      "source": [
        "Task 4: Model debugging (Mess around with these 3 hyperparameters) \\\n",
        "hint: \\\n",
        "LEARNING_RATE: The current value is set to 1e10 (10000000000.0). Try adjusting it to find an optimal learning rate.\\\n",
        "BATCH_SIZE: Set it to a power of 2, such as 16, 32, or 64, to potentially improve training efficiency. \\\n",
        "EPOCH: Consider letting the model train for more epochs. The default value is set to 1; experiment with longer training durations for better convergence and performance evaluation."
      ],
      "metadata": {
        "id": "lmsOBQ1kXFHA"
      }
    },
    {
      "cell_type": "code",
      "source": [
        "BATCH_SIZE = 64\n",
        "LEARNING_RATE = 0.001\n",
        "EPOCH = 20"
      ],
      "metadata": {
        "id": "NDlnlmgKFhiK"
      },
      "execution_count": null,
      "outputs": []
    },
    {
      "cell_type": "code",
      "source": [
        "# Function to train the model\n",
        "def train_model(model, train_loader, criterion, optimizer, num_epochs=5):\n",
        "    model.to(device)\n",
        "    model.train()\n",
        "    for epoch in range(num_epochs):\n",
        "        running_loss = 0.0\n",
        "        correct_predictions = 0  # Initialize a counter for correct predictions\n",
        "        total_samples = 0  # Initialize a counter for total samples\n",
        "\n",
        "        for inputs, labels in train_loader:\n",
        "            inputs, labels = inputs.to(device), labels.to(device)\n",
        "            optimizer.zero_grad()\n",
        "            outputs = model(inputs)\n",
        "            loss = criterion(outputs, labels)\n",
        "            loss.backward()\n",
        "            optimizer.step()\n",
        "            running_loss += loss.item()\n",
        "\n",
        "             # Measure accuracy\n",
        "            _, predicted = torch.max(outputs, 1)\n",
        "            correct_predictions += (predicted == labels).sum().item()\n",
        "            total_samples += labels.size(0)\n",
        "\n",
        "        # Calculate accuracy for the current epoch\n",
        "        accuracy = 100.0 * correct_predictions / total_samples\n",
        "        print(f\"Epoch {epoch+1}/{num_epochs}, Loss: {running_loss/len(train_loader):.4f}, Accuracy: {accuracy}\")\n",
        "    print(\"Training complete!\")\n"
      ],
      "metadata": {
        "id": "G5q7aHCZAZWw"
      },
      "execution_count": null,
      "outputs": []
    },
    {
      "cell_type": "code",
      "source": [
        "trainset = torchvision.datasets.CIFAR10(root='./data', train=True,\n",
        "                                        download=True, transform=transforms)"
      ],
      "metadata": {
        "colab": {
          "base_uri": "https://localhost:8080/"
        },
        "id": "k59nYWhsB1n0",
        "outputId": "f3f5b542-686f-4049-9d5f-f4e242c40187"
      },
      "execution_count": null,
      "outputs": [
        {
          "output_type": "stream",
          "name": "stdout",
          "text": [
            "Downloading https://www.cs.toronto.edu/~kriz/cifar-10-python.tar.gz to ./data/cifar-10-python.tar.gz\n"
          ]
        },
        {
          "output_type": "stream",
          "name": "stderr",
          "text": [
            "100%|██████████| 170498071/170498071 [00:03<00:00, 48328647.79it/s]\n"
          ]
        },
        {
          "output_type": "stream",
          "name": "stdout",
          "text": [
            "Extracting ./data/cifar-10-python.tar.gz to ./data\n"
          ]
        }
      ]
    },
    {
      "cell_type": "code",
      "source": [
        "# Load and preprocess the CFAR10 dataset\n",
        "transform = transforms.Compose([transforms.ToTensor(), transforms.Normalize((0.5,), (0.5,))])\n",
        "#TODO: Complete below line to import CIFAR10 dataset\n",
        "train_set = torchvision.datasets.CIFAR10(root='./data', train=True,\n",
        "                                        download=True, transform=transform)\n",
        "train_loader = DataLoader(train_set, batch_size=BATCH_SIZE, shuffle=True)"
      ],
      "metadata": {
        "colab": {
          "base_uri": "https://localhost:8080/"
        },
        "id": "AnSb5bBsAakx",
        "outputId": "88cf107b-75ac-440b-aaa4-20450f4d73a0"
      },
      "execution_count": null,
      "outputs": [
        {
          "output_type": "stream",
          "name": "stdout",
          "text": [
            "Files already downloaded and verified\n"
          ]
        }
      ]
    },
    {
      "cell_type": "code",
      "source": [
        "train_set.classes"
      ],
      "metadata": {
        "colab": {
          "base_uri": "https://localhost:8080/"
        },
        "id": "h9uu5lfFF-FH",
        "outputId": "de5ff926-3929-4cdc-8292-ea09bb4ddb91"
      },
      "execution_count": null,
      "outputs": [
        {
          "output_type": "execute_result",
          "data": {
            "text/plain": [
              "['airplane',\n",
              " 'automobile',\n",
              " 'bird',\n",
              " 'cat',\n",
              " 'deer',\n",
              " 'dog',\n",
              " 'frog',\n",
              " 'horse',\n",
              " 'ship',\n",
              " 'truck']"
            ]
          },
          "metadata": {},
          "execution_count": 8
        }
      ]
    },
    {
      "cell_type": "code",
      "source": [
        "# Create the model, loss function, and optimizer\n",
        "model = SimpleCNN()\n",
        "criterion = nn.CrossEntropyLoss()\n",
        "optimizer = optim.SGD(model.parameters(), lr=LEARNING_RATE, momentum=0.9)"
      ],
      "metadata": {
        "id": "EUYLg9WRAdUp"
      },
      "execution_count": null,
      "outputs": []
    },
    {
      "cell_type": "markdown",
      "source": [
        "Task 2: Measure performance difference training between GPU and CPU\n"
      ],
      "metadata": {
        "id": "u8Yh4J-wUR1W"
      }
    },
    {
      "cell_type": "code",
      "source": [
        "# Train the model\n",
        "train_model(model, train_loader, criterion, optimizer, num_epochs=EPOCH)"
      ],
      "metadata": {
        "colab": {
          "base_uri": "https://localhost:8080/"
        },
        "id": "teF6NB2dAeV-",
        "outputId": "dd28f8d6-5d7f-4965-a01d-4bcca3916c71"
      },
      "execution_count": null,
      "outputs": [
        {
          "output_type": "stream",
          "name": "stdout",
          "text": [
            "Epoch 1/20, Loss: 2.1137, Accuracy: 24.356\n",
            "Epoch 2/20, Loss: 1.7542, Accuracy: 37.61\n",
            "Epoch 3/20, Loss: 1.5585, Accuracy: 44.602\n",
            "Epoch 4/20, Loss: 1.4127, Accuracy: 49.546\n",
            "Epoch 5/20, Loss: 1.3258, Accuracy: 52.694\n",
            "Epoch 6/20, Loss: 1.2547, Accuracy: 55.614\n",
            "Epoch 7/20, Loss: 1.1926, Accuracy: 57.828\n",
            "Epoch 8/20, Loss: 1.1408, Accuracy: 59.752\n",
            "Epoch 9/20, Loss: 1.0941, Accuracy: 61.43\n",
            "Epoch 10/20, Loss: 1.0525, Accuracy: 63.028\n",
            "Epoch 11/20, Loss: 1.0156, Accuracy: 64.386\n",
            "Epoch 12/20, Loss: 0.9760, Accuracy: 65.948\n",
            "Epoch 13/20, Loss: 0.9441, Accuracy: 66.92\n",
            "Epoch 14/20, Loss: 0.9100, Accuracy: 68.278\n",
            "Epoch 15/20, Loss: 0.8784, Accuracy: 69.428\n",
            "Epoch 16/20, Loss: 0.8472, Accuracy: 70.458\n",
            "Epoch 17/20, Loss: 0.8180, Accuracy: 71.384\n",
            "Epoch 18/20, Loss: 0.7883, Accuracy: 72.544\n",
            "Epoch 19/20, Loss: 0.7610, Accuracy: 73.484\n",
            "Epoch 20/20, Loss: 0.7330, Accuracy: 74.546\n",
            "Training complete!\n"
          ]
        }
      ]
    },
    {
      "cell_type": "markdown",
      "source": [
        "Report your findings on:\n",
        "*   What were the key differences you observed in the training speed between the GPU and CPU?\n",
        "*   Were there any challenges or limitations you encountered while using the GPU for training?\n",
        "*   Did you notice any impact on the final model's performance (accuracy, loss) when trained on the GPU versus the CPU?"
      ],
      "metadata": {
        "id": "IyN4gk65UUAl"
      }
    },
    {
      "cell_type": "markdown",
      "source": [
        "**Findings**\n",
        "\n",
        "GPU training speed is faster than CPU training speed.\n",
        "\n",
        "As far as I was aware of, there were no limitations.\n",
        "\n",
        "Accuracy in GPU increased slowly, while in CPU it decreased slowly. Initially loss in CPU is higher than GPU, but during model training, loss in CPU decreased faster than loss in GPU.\n",
        "\n",
        "-------------------------------------------------------------------------------\n",
        "\n",
        "**GPU** time: 5m\n",
        "\n",
        "Epoch 1/20, Loss: 2.3037, Accuracy: 9.396\n",
        "Epoch 2/20, Loss: 2.3036, Accuracy: 9.438\n",
        "Epoch 3/20, Loss: 2.3036, Accuracy: 9.476\n",
        "Epoch 4/20, Loss: 2.3035, Accuracy: 9.518\n",
        "Epoch 5/20, Loss: 2.3034, Accuracy: 9.554\n",
        "Epoch 6/20, Loss: 2.3033, Accuracy: 9.574\n",
        "Epoch 7/20, Loss: 2.3032, Accuracy: 9.632\n",
        "Epoch 8/20, Loss: 2.3031, Accuracy: 9.664\n",
        "Epoch 9/20, Loss: 2.3030, Accuracy: 9.714\n",
        "Epoch 10/20, Loss: 2.3029, Accuracy: 9.764\n",
        "Epoch 11/20, Loss: 2.3028, Accuracy: 9.818\n",
        "Epoch 12/20, Loss: 2.3027, Accuracy: 9.876\n",
        "Epoch 13/20, Loss: 2.3026, Accuracy: 9.918\n",
        "Epoch 14/20, Loss: 2.3025, Accuracy: 9.976\n",
        "Epoch 15/20, Loss: 2.3025, Accuracy: 10.046\n",
        "Epoch 16/20, Loss: 2.3024, Accuracy: 10.096\n",
        "Epoch 17/20, Loss: 2.3023, Accuracy: 10.186\n",
        "Epoch 18/20, Loss: 2.3022, Accuracy: 10.272\n",
        "Epoch 19/20, Loss: 2.3021, Accuracy: 10.34\n",
        "Epoch 20/20, Loss: 2.3020, Accuracy: 10.402\n",
        "\n",
        "**CPU** time: 14m\n",
        "\n",
        "Epoch 1/20, Loss: 2.3043, Accuracy: 9.972\n",
        "Epoch 2/20, Loss: 2.3042, Accuracy: 9.974\n",
        "Epoch 3/20, Loss: 2.3041, Accuracy: 9.974\n",
        "Epoch 4/20, Loss: 2.3040, Accuracy: 9.974\n",
        "Epoch 5/20, Loss: 2.3039, Accuracy: 9.974\n",
        "Epoch 6/20, Loss: 2.3038, Accuracy: 9.972\n",
        "Epoch 7/20, Loss: 2.3036, Accuracy: 9.972\n",
        "Epoch 8/20, Loss: 2.3035, Accuracy: 9.966\n",
        "Epoch 9/20, Loss: 2.3034, Accuracy: 9.97\n",
        "Epoch 10/20, Loss: 2.3034, Accuracy: 9.972\n",
        "Epoch 11/20, Loss: 2.3032, Accuracy: 9.97\n",
        "Epoch 12/20, Loss: 2.3031, Accuracy: 9.968\n",
        "Epoch 13/20, Loss: 2.3030, Accuracy: 9.968\n",
        "Epoch 14/20, Loss: 2.3029, Accuracy: 9.968\n",
        "Epoch 15/20, Loss: 2.3028, Accuracy: 9.964\n",
        "Epoch 16/20, Loss: 2.3027, Accuracy: 9.964\n",
        "Epoch 17/20, Loss: 2.3026, Accuracy: 9.962\n",
        "Epoch 18/20, Loss: 2.3025, Accuracy: 9.96\n",
        "Epoch 19/20, Loss: 2.3024, Accuracy: 9.96\n",
        "Epoch 20/20, Loss: 2.3023, Accuracy: 9.958\n",
        "\n",
        "\n",
        "\n"
      ],
      "metadata": {
        "id": "fFGhihK9U6Pv"
      }
    },
    {
      "cell_type": "markdown",
      "source": [
        "Task 3: Visualize Loss and Accuracy\n"
      ],
      "metadata": {
        "id": "EsInMplEVyCK"
      }
    },
    {
      "cell_type": "code",
      "source": [
        "#TODO:\n",
        "#Your plots goes here\n",
        "import matplotlib as mp\n",
        "import matplotlib.pyplot as plt\n",
        "import numpy as np\n",
        "\n",
        "plt.figure()\n",
        "\n",
        "# GPU\n",
        "x = np.array([2.3037,2.3036,2.3036,2.3035,2.3034,2.3033,2.3032,2.3031,2.3030,2.3029,2.3028,2.3027,2.3026,2.3025,2.3025,2.3024,2.3023,2.3022,2.3021,2.3020])\n",
        "y = np.array([9.396,9.438,9.476,9.518,9.554,9.574,9.632,9.664,9.714,9.764,9.818,9.876,9.918,9.976,10.046,10.096,10.186,10.272,10.34,10.402])\n",
        "gpu = plt.subplot(1,2,1)\n",
        "gpu.set_title(\"GPU (5 min)\")\n",
        "plt.plot(x,y)\n",
        "plt.xlabel(\"Loss\")\n",
        "plt.ylabel(\"Accuracy\")\n",
        "\n",
        "# CPU\n",
        "x = np.array([2.3043,2.3042,2.3041,2.3040,2.3039,2.3038,2.3036,2.3035,2.3034,2.3034,2.3032,2.3031,2.3030,2.3029,2.3028,2.3027,2.3026,2.3025,2.3024,2.3023,])\n",
        "y = np.array([9.972,9.974,9.974,9.974,9.974,9.972,9.972,9.966,9.97,9.972,9.97,9.968,9.968,9.968,9.964,9.964,9.962,9.96,9.96,9.958])\n",
        "cpu = plt.subplot(1,2,2)\n",
        "cpu.set_title(\"CPU (14 min)\")\n",
        "plt.plot(x,y)\n",
        "plt.xlabel(\"Loss\")\n",
        "plt.ylabel(\"Accuracy\")"
      ],
      "metadata": {
        "id": "jGiiegGeVYEn",
        "colab": {
          "base_uri": "https://localhost:8080/",
          "height": 489
        },
        "outputId": "e8fee3ad-62e5-4766-8d57-fd33a47c8099"
      },
      "execution_count": null,
      "outputs": [
        {
          "output_type": "execute_result",
          "data": {
            "text/plain": [
              "Text(0, 0.5, 'Accuracy')"
            ]
          },
          "metadata": {},
          "execution_count": 11
        },
        {
          "output_type": "display_data",
          "data": {
            "text/plain": [
              "<Figure size 640x480 with 2 Axes>"
            ],
            "image/png": "[encoded data removed]"
          },
          "metadata": {}
        }
      ]
    },
    {
      "cell_type": "markdown",
      "source": [
        "Task 4: Test your own Image \\\n",
        "You can use the same code from the tutorial and ensure your model is properly trained!\n",
        "\n"
      ],
      "metadata": {
        "id": "WUNYsuwRX-VT"
      }
    },
    {
      "cell_type": "code",
      "source": [
        "transform = transforms.Compose([\n",
        "    transforms.Resize((32, 32)),  # Resize the image to match the model input size\n",
        "    transforms.ToTensor(),  # Convert the image to a tensor\n",
        "   transforms.Normalize((0.5,), (0.5,)),  # Normalize the image\n",
        "])\n",
        "\n",
        "# Function to preprocess and make predictions on the uploaded image\n",
        "def predict_uploaded_image(upload):\n",
        "    # Open the uploaded image\n",
        "    image = Image.open(upload).convert('RGB')\n",
        "    model.to(\"cpu\")  # Set the model to evaluation mode\n",
        "\n",
        "    # Preprocess the image\n",
        "    input_tensor = transform(image)\n",
        "    input_batch = input_tensor.unsqueeze(0)  # Add a batch dimension\n",
        "\n",
        "    # Make predictions using the model\n",
        "    with torch.no_grad():\n",
        "        output = model(input_batch)\n",
        "    _, predicted_idx = torch.max(output, 1)\n",
        "\n",
        "    print(f\"Predicted labels: {predicted_idx}\")"
      ],
      "metadata": {
        "id": "A0z4s7Qko4k_"
      },
      "execution_count": null,
      "outputs": []
    },
    {
      "cell_type": "code",
      "source": [
        "# Upload an image for prediction\n",
        "uploaded = files.upload()\n",
        "\n",
        "# If an image is uploaded, call the prediction function\n",
        "if len(uploaded) > 0:\n",
        "    for file_name in uploaded.keys():\n",
        "        predict_uploaded_image(file_name)\n",
        "else:\n",
        "    print(\"No image uploaded.\")"
      ],
      "metadata": {
        "id": "LN02H0eTYC68",
        "colab": {
          "base_uri": "https://localhost:8080/",
          "height": 90
        },
        "outputId": "e9dcebcc-88ec-4036-b1dd-5723f78a3dc7"
      },
      "execution_count": null,
      "outputs": [
        {
          "output_type": "display_data",
          "data": {
            "text/plain": [
              "<IPython.core.display.HTML object>"
            ],
            "text/html": [
              "\n",
              "     <input type=\"file\" id=\"files-cd1ecd91-a68c-4209-9d9f-a9534def8379\" name=\"files[]\" multiple disabled\n",
              "        style=\"border:none\" />\n",
              "     <output id=\"result-cd1ecd91-a68c-4209-9d9f-a9534def8379\">\n",
              "      Upload widget is only available when the cell has been executed in the\n",
              "      current browser session. Please rerun this cell to enable.\n",
              "      </output>\n",
              "      <script>// Copyright 2017 Google LLC\n",
              "//\n",
              "// Licensed under the Apache License, Version 2.0 (the \"License\");\n",
              "// you may not use this file except in compliance with the License.\n",
              "// You may obtain a copy of the License at\n",
              "//\n",
              "//      http://www.apache.org/licenses/LICENSE-2.0\n",
              "//\n",
              "// Unless required by applicable law or agreed to in writing, software\n",
              "// distributed under the License is distributed on an \"AS IS\" BASIS,\n",
              "// WITHOUT WARRANTIES OR CONDITIONS OF ANY KIND, either express or implied.\n",
              "// See the License for the specific language governing permissions and\n",
              "// limitations under the License.\n",
              "\n",
              "/**\n",
              " * @fileoverview Helpers for google.colab Python module.\n",
              " */\n",
              "(function(scope) {\n",
              "function span(text, styleAttributes = {}) {\n",
              "  const element = document.createElement('span');\n",
              "  element.textContent = text;\n",
              "  for (const key of Object.keys(styleAttributes)) {\n",
              "    element.style[key] = styleAttributes[key];\n",
              "  }\n",
              "  return element;\n",
              "}\n",
              "\n",
              "// Max number of bytes which will be uploaded at a time.\n",
              "const MAX_PAYLOAD_SIZE = 100 * 1024;\n",
              "\n",
              "function _uploadFiles(inputId, outputId) {\n",
              "  const steps = uploadFilesStep(inputId, outputId);\n",
              "  const outputElement = document.getElementById(outputId);\n",
              "  // Cache steps on the outputElement to make it available for the next call\n",
              "  // to uploadFilesContinue from Python.\n",
              "  outputElement.steps = steps;\n",
              "\n",
              "  return _uploadFilesContinue(outputId);\n",
              "}\n",
              "\n",
              "// This is roughly an async generator (not supported in the browser yet),\n",
              "// where there are multiple asynchronous steps and the Python side is going\n",
              "// to poll for completion of each step.\n",
              "// This uses a Promise to block the python side on completion of each step,\n",
              "// then passes the result of the previous step as the input to the next step.\n",
              "function _uploadFilesContinue(outputId) {\n",
              "  const outputElement = document.getElementById(outputId);\n",
              "  const steps = outputElement.steps;\n",
              "\n",
              "  const next = steps.next(outputElement.lastPromiseValue);\n",
              "  return Promise.resolve(next.value.promise).then((value) => {\n",
              "    // Cache the last promise value to make it available to the next\n",
              "    // step of the generator.\n",
              "    outputElement.lastPromiseValue = value;\n",
              "    return next.value.response;\n",
              "  });\n",
              "}\n",
              "\n",
              "/**\n",
              " * Generator function which is called between each async step of the upload\n",
              " * process.\n",
              " * @param {string} inputId Element ID of the input file picker element.\n",
              " * @param {string} outputId Element ID of the output display.\n",
              " * @return {!Iterable<!Object>} Iterable of next steps.\n",
              " */\n",
              "function* uploadFilesStep(inputId, outputId) {\n",
              "  const inputElement = document.getElementById(inputId);\n",
              "  inputElement.disabled = false;\n",
              "\n",
              "  const outputElement = document.getElementById(outputId);\n",
              "  outputElement.innerHTML = '';\n",
              "\n",
              "  const pickedPromise = new Promise((resolve) => {\n",
              "    inputElement.addEventListener('change', (e) => {\n",
              "      resolve(e.target.files);\n",
              "    });\n",
              "  });\n",
              "\n",
              "  const cancel = document.createElement('button');\n",
              "  inputElement.parentElement.appendChild(cancel);\n",
              "  cancel.textContent = 'Cancel upload';\n",
              "  const cancelPromise = new Promise((resolve) => {\n",
              "    cancel.onclick = () => {\n",
              "      resolve(null);\n",
              "    };\n",
              "  });\n",
              "\n",
              "  // Wait for the user to pick the files.\n",
              "  const files = yield {\n",
              "    promise: Promise.race([pickedPromise, cancelPromise]),\n",
              "    response: {\n",
              "      action: 'starting',\n",
              "    }\n",
              "  };\n",
              "\n",
              "  cancel.remove();\n",
              "\n",
              "  // Disable the input element since further picks are not allowed.\n",
              "  inputElement.disabled = true;\n",
              "\n",
              "  if (!files) {\n",
              "    return {\n",
              "      response: {\n",
              "        action: 'complete',\n",
              "      }\n",
              "    };\n",
              "  }\n",
              "\n",
              "  for (const file of files) {\n",
              "    const li = document.createElement('li');\n",
              "    li.append(span(file.name, {fontWeight: 'bold'}));\n",
              "    li.append(span(\n",
              "        `(${file.type || 'n/a'}) - ${file.size} bytes, ` +\n",
              "        `last modified: ${\n",
              "            file.lastModifiedDate ? file.lastModifiedDate.toLocaleDateString() :\n",
              "                                    'n/a'} - `));\n",
              "    const percent = span('0% done');\n",
              "    li.appendChild(percent);\n",
              "\n",
              "    outputElement.appendChild(li);\n",
              "\n",
              "    const fileDataPromise = new Promise((resolve) => {\n",
              "      const reader = new FileReader();\n",
              "      reader.onload = (e) => {\n",
              "        resolve(e.target.result);\n",
              "      };\n",
              "      reader.readAsArrayBuffer(file);\n",
              "    });\n",
              "    // Wait for the data to be ready.\n",
              "    let fileData = yield {\n",
              "      promise: fileDataPromise,\n",
              "      response: {\n",
              "        action: 'continue',\n",
              "      }\n",
              "    };\n",
              "\n",
              "    // Use a chunked sending to avoid message size limits. See b/62115660.\n",
              "    let position = 0;\n",
              "    do {\n",
              "      const length = Math.min(fileData.byteLength - position, MAX_PAYLOAD_SIZE);\n",
              "      const chunk = new Uint8Array(fileData, position, length);\n",
              "      position += length;\n",
              "\n",
              "      const base64 = btoa(String.fromCharCode.apply(null, chunk));\n",
              "      yield {\n",
              "        response: {\n",
              "          action: 'append',\n",
              "          file: file.name,\n",
              "          data: base64,\n",
              "        },\n",
              "      };\n",
              "\n",
              "      let percentDone = fileData.byteLength === 0 ?\n",
              "          100 :\n",
              "          Math.round((position / fileData.byteLength) * 100);\n",
              "      percent.textContent = `${percentDone}% done`;\n",
              "\n",
              "    } while (position < fileData.byteLength);\n",
              "  }\n",
              "\n",
              "  // All done.\n",
              "  yield {\n",
              "    response: {\n",
              "      action: 'complete',\n",
              "    }\n",
              "  };\n",
              "}\n",
              "\n",
              "scope.google = scope.google || {};\n",
              "scope.google.colab = scope.google.colab || {};\n",
              "scope.google.colab._files = {\n",
              "  _uploadFiles,\n",
              "  _uploadFilesContinue,\n",
              "};\n",
              "})(self);\n",
              "</script> "
            ]
          },
          "metadata": {}
        },
        {
          "output_type": "stream",
          "name": "stdout",
          "text": [
            "Saving Cat_August_2010-4.jpg to Cat_August_2010-4.jpg\n",
            "Predicted labels: tensor([1])\n"
          ]
        }
      ]
    }
  ]
}